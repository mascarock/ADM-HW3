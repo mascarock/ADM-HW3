{
 "cells": [
  {
   "cell_type": "markdown",
   "metadata": {},
   "source": [
    "### Question 1 \n",
    "### Parse downloaded pages\n",
    "\n",
    "\n"
   ]
  },
  {
   "cell_type": "code",
   "execution_count": 7,
   "metadata": {},
   "outputs": [],
   "source": [
    "from bs4 import BeautifulSoup\n",
    "import os\n",
    "import csv\n",
    "\n",
    "##  read .HTML files\n",
    "folder_dir = os.listdir('Html-data')\n",
    "for i in range(1,len(folder_dir)):\n",
    "    htmlfile=open(r'Html-data/article_'+str(i)+'.html','r',encoding='utf8')\n",
    "    soup=BeautifulSoup(htmlfile,'html.parser')\n",
    "    \n",
    "    #Find Title of movies\n",
    "    tsv_content=[]\n",
    "    dict_content={}\n",
    "    dict_content['title']=soup.select_one('h1',{\"class\":\"firstheading:\"}).text \n",
    "    \n",
    "    # Find intro of movies\n",
    "    \n",
    "    pr_content = soup.select('p')\n",
    "    dict_content['intro']=\"\".join(pr_content[0].text.strip(\"\\n\"))\n",
    "    \n",
    "    # Find plot of movies\n",
    "    try:\n",
    "        \n",
    "        dict_content['plot']=\"\".join(pr_content[1].text.strip(\"\\n\"))\n",
    "    except:\n",
    "        dict_content['plot']=\"NA\"\n",
    "        \n",
    "    for data in dict_content:\n",
    "        tsv_content.append(dict_content[data])\n",
    "        \n",
    "    # Find infobox content \n",
    "    table_body=soup.find('tbody')\n",
    "    allrows = table_body.find_all('tr')\n",
    "    for rows in allrows:\n",
    "        if rows.th!= None:\n",
    "            if rows.th.text == 'Directed by':\n",
    "                tsv_content.append(\"\".join(rows.td.text.strip(\"\\n\")))\n",
    "            elif rows.th.text == 'Produced by':\n",
    "                tsv_content.append(\"\".join(rows.td.text.strip(\"\\n\")))\n",
    "            elif rows.th.text == 'Written by':\n",
    "                tsv_content.append(\"\".join(rows.td.text.strip(\"\\n\")))\n",
    "            elif rows.th.text == 'Starring':\n",
    "                tsv_content.append(\"\".join(rows.td.text.strip(\"\\n\")))\n",
    "            elif rows.th.text == 'Music by':\n",
    "                tsv_content.append(\"\".join(rows.td.text.strip(\"\\n\")))\n",
    "            elif rows.th.text == 'Release date':\n",
    "                tsv_content.append(\"\".join(rows.td.text.strip(\"\\n\")))\n",
    "            elif rows.th.text == 'Running time':\n",
    "                tsv_content.append(\"\".join(rows.td.text.strip(\"\\n\")))\n",
    "            elif rows.th.text == 'Country':\n",
    "                tsv_content.append(\"\".join(rows.td.text.strip(\"\\n\")))\n",
    "            elif rows.th.text == 'Language':\n",
    "                tsv_content.append(\"\".join(rows.td.text.strip(\"\\n\")))\n",
    "            elif rows.th.text =='Budget':\n",
    "                tsv_content.append(\"\".join(rows.td.text.strip(\"\\n\"))) \n",
    "                \n",
    "    # create .TSV file            \n",
    "    with open('TSV-data/article_'+str(i)+'.tsv', 'wt') as out_file:\n",
    "        tsv_writer = csv.writer(out_file, delimiter='\\t')\n",
    "        tsv_writer.writerow(tsv_content)"
   ]
  },
  {
   "cell_type": "code",
   "execution_count": null,
   "metadata": {},
   "outputs": [],
   "source": []
  }
 ],
 "metadata": {
  "kernelspec": {
   "display_name": "Python 3",
   "language": "python",
   "name": "python3"
  },
  "language_info": {
   "codemirror_mode": {
    "name": "ipython",
    "version": 3
   },
   "file_extension": ".py",
   "mimetype": "text/x-python",
   "name": "python",
   "nbconvert_exporter": "python",
   "pygments_lexer": "ipython3",
   "version": "3.7.3"
  }
 },
 "nbformat": 4,
 "nbformat_minor": 2
}
