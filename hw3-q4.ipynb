{
 "cells": [
  {
   "cell_type": "markdown",
   "metadata": {},
   "source": [
    "## Problem 4\n",
    "\n",
    "A subsequence is palindromic if it remains the same wether read left to right or right to left. We defined an algorithm that takes a sequence $S:[1,...,n]$ and returns the length of the longest palindromic subsequence. So we can say that a sequence $S$ is a palindrome if we can form a sequence $\\bar{S}$ by reversing the sequence $S$ \n",
    "\n",
    "For this exercice we use recursion. If we look at the substring $S[i,...j]$ then we can find a palindrome of length at least 2 if $S[i] = S[j]$. If they are not the same we can find the maximum length in subsequences $S[i+1,...,j]$ and $S[i,...,j-1]$. Every character $S[i]$ is a laindrome in itself of length 1. Therefore we have two base cases given by $S[i,i] = 1$. The maximum length palindrome for the substring $S[i,...,j]$ is $L(i,j)$\n",
    "\n",
    "$$ L(i,j) = \\begin{cases} L(i+1,j-1) + 2 & \\text{if } x[i] = x[j]  \\\\ \n",
    "                          max{L(i+1, j), L(i,j-1)} & \\text{otherwise}\n",
    "                            \\end{cases}\n",
    "$$\n",
    "$$ L(i,j) = 1 \\forall  i \\in (1,...,n) $$\n",
    "\n"
   ]
  },
  {
   "cell_type": "markdown",
   "metadata": {},
   "source": [
    "## Code"
   ]
  },
  {
   "cell_type": "markdown",
   "metadata": {},
   "source": [
    "### Def Function"
   ]
  },
  {
   "cell_type": "code",
   "execution_count": 2,
   "metadata": {},
   "outputs": [],
   "source": [
    "# Returns the length of the longest  \n",
    "# palindromic subsequence in seq  \n",
    "\n",
    "def lps(seq, i, j): \n",
    "      \n",
    "    # Base Case #1 - only one char\n",
    "    if (i == j): \n",
    "        return 1\n",
    "  \n",
    "    # Base Case #2 - only 2 character and both are same\n",
    "    if (seq[i] == seq[j] and i + 1 == j):\n",
    "        return 2\n",
    "      \n",
    "    # Found match first and last character\n",
    "    if (seq[i] == seq[j]): \n",
    "        return lps(seq, i + 1, j - 1) + 2\n",
    "  \n",
    "    # Not found match\n",
    "    return max(lps(seq, i, j - 1),  \n",
    "               lps(seq, i + 1, j)) "
   ]
  },
  {
   "cell_type": "markdown",
   "metadata": {},
   "source": [
    "### Running the Code"
   ]
  },
  {
   "cell_type": "code",
   "execution_count": 3,
   "metadata": {
    "scrolled": true
   },
   "outputs": [
    {
     "name": "stdout",
     "output_type": "stream",
     "text": [
      "The length of the LPS is 7\n"
     ]
    }
   ],
   "source": [
    "seq = \"DATAMININGSAPIENZA\"\n",
    "n = len(seq) \n",
    "print(\"The length of the LPS is\",lps(seq, 0, n - 1))"
   ]
  }
 ],
 "metadata": {
  "kernelspec": {
   "display_name": "Python 3",
   "language": "python",
   "name": "python3"
  },
  "language_info": {
   "codemirror_mode": {
    "name": "ipython",
    "version": 3
   },
   "file_extension": ".py",
   "mimetype": "text/x-python",
   "name": "python",
   "nbconvert_exporter": "python",
   "pygments_lexer": "ipython3",
   "version": "3.7.5"
  }
 },
 "nbformat": 4,
 "nbformat_minor": 2
}
