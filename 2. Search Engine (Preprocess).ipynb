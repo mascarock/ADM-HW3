{
 "cells": [
  {
   "cell_type": "code",
   "execution_count": 1,
   "metadata": {},
   "outputs": [],
   "source": [
    "import pandas as pd\n",
    "import nltk\n",
    "import string\n",
    "from nltk.corpus import stopwords\n",
    "from nltk.tokenize import word_tokenize\n",
    "from nltk.tokenize import RegexpTokenizer\n",
    "from nltk.stem import PorterStemmer "
   ]
  },
  {
   "cell_type": "code",
   "execution_count": null,
   "metadata": {},
   "outputs": [],
   "source": []
  },
  {
   "cell_type": "code",
   "execution_count": 36,
   "metadata": {},
   "outputs": [],
   "source": [
    "sentence = \"I'm using this file just for a test, to delete all the stopwords and numbers like 1,2,3,4,5 from a sentence. It is important to have more words to show how it works deleting all the words that we don't need\"\n",
    "\n",
    "def filtering(sentence):\n",
    "    \n",
    "    sentence1 = str(sentence).lower() # converting all in lower character to don't have double characters\n",
    "    sentence2 = ''.join([i for i in sentence1 if not i.isdigit()]) # removing all the numbers\n",
    "    \n",
    "    # removing stopwords\n",
    "    stop_words = set(stopwords.words('english')) \n",
    "    word_tokens = word_tokenize(sentence2)\n",
    "    no_stopwords = [w for w in word_tokens if not w in stop_words]\n",
    "\n",
    "    # removing punctuation\n",
    "    tokenizer = RegexpTokenizer(r'\\w+')\n",
    "    no_punctuation = tokenizer.tokenize(str(no_stopwords))\n",
    "\n",
    "    # stemming data\n",
    "    ps = PorterStemmer() \n",
    "    stemming = []  \n",
    "    for w in no_punctuation:\n",
    "        stemming.append(ps.stem(w))\n",
    "    stemmed_data = list(set(stemming))\n",
    "    \n",
    "    return stemmed_data "
   ]
  },
  {
   "cell_type": "code",
   "execution_count": 37,
   "metadata": {},
   "outputs": [
    {
     "data": {
      "text/plain": [
       "['use',\n",
       " 'work',\n",
       " 'show',\n",
       " 'like',\n",
       " 'file',\n",
       " 'import',\n",
       " 'n',\n",
       " 'delet',\n",
       " 'word',\n",
       " 't',\n",
       " 'm',\n",
       " 'test',\n",
       " 'number',\n",
       " 'sentenc',\n",
       " 'need',\n",
       " 'stopword']"
      ]
     },
     "execution_count": 37,
     "metadata": {},
     "output_type": "execute_result"
    }
   ],
   "source": [
    "filtering(sentence)"
   ]
  },
  {
   "cell_type": "code",
   "execution_count": null,
   "metadata": {},
   "outputs": [],
   "source": []
  }
 ],
 "metadata": {
  "kernelspec": {
   "display_name": "Python 3",
   "language": "python",
   "name": "python3"
  },
  "language_info": {
   "codemirror_mode": {
    "name": "ipython",
    "version": 3
   },
   "file_extension": ".py",
   "mimetype": "text/x-python",
   "name": "python",
   "nbconvert_exporter": "python",
   "pygments_lexer": "ipython3",
   "version": "3.7.3"
  }
 },
 "nbformat": 4,
 "nbformat_minor": 2
}
