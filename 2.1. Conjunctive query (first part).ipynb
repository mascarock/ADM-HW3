{
 "cells": [
  {
   "cell_type": "code",
   "execution_count": 7,
   "metadata": {},
   "outputs": [],
   "source": [
    "import os\n",
    "import pandas as pd\n",
    "import nltk\n",
    "import string\n",
    "from nltk.corpus import stopwords\n",
    "from nltk.tokenize import word_tokenize\n",
    "from nltk.tokenize import RegexpTokenizer\n",
    "from nltk.stem import PorterStemmer "
   ]
  },
  {
   "cell_type": "code",
   "execution_count": 8,
   "metadata": {},
   "outputs": [],
   "source": [
    "### from the first part we get the function to filter the data\n",
    "\n",
    "def filtering(string):\n",
    "    \n",
    "    sentence1 = str(string).lower() # converting all in lower character to don't have double characters\n",
    "    sentence2 = ''.join([i for i in sentence1 if not i.isdigit()]) # removing all the numbers\n",
    "    \n",
    "    # removing stopwords\n",
    "    stop_words = set(stopwords.words('english')) \n",
    "    word_tokens = word_tokenize(sentence2)\n",
    "    no_stopwords = [w for w in word_tokens if not w in stop_words]\n",
    "\n",
    "    # removing punctuation\n",
    "    tokenizer = RegexpTokenizer(r'\\w+')\n",
    "    no_punctuation = tokenizer.tokenize(str(no_stopwords))\n",
    "\n",
    "    # stemming data\n",
    "    ps = PorterStemmer() \n",
    "    stemming = []  \n",
    "    for w in no_punctuation:\n",
    "        stemming.append(ps.stem(w))\n",
    "    stemmed_data = list(set(stemming))\n",
    "    \n",
    "    return stemmed_data "
   ]
  },
  {
   "cell_type": "markdown",
   "metadata": {},
   "source": [
    "### Creating a dictionary to put all the words from the tsv files (10.000 - 20.000)"
   ]
  },
  {
   "cell_type": "code",
   "execution_count": 12,
   "metadata": {},
   "outputs": [],
   "source": [
    "path = os.getcwd()\n",
    "d = []\n",
    "\n",
    "for i in range(10000, 20000):\n",
    "    try:\n",
    "        with open(path+\"\\\\tsvfile\\\\article_\"+str(i)+\".tsv\", \"r\") as tsv_file:\n",
    "                # Loop through each line of the file \n",
    "            for line in tsv_file:\n",
    "                # Removing the leading spaces and newline character \n",
    "                line = line.strip() \n",
    "                \n",
    "                # Convert the characters in line to  \n",
    "                # lowercase to avoid case mismatch \n",
    "                line = line.lower() \n",
    "\n",
    "                # Split the line into words \n",
    "                words = line.split(\" \") \n",
    "                d.append(line)\n",
    "                    \n",
    "    except FileNotFoundError:\n",
    "            continue"
   ]
  },
  {
   "cell_type": "markdown",
   "metadata": {},
   "source": [
    "### Now I assigne a variable \"data\" that contain in a list all the words filtered by the function filtering() created previously.\n"
   ]
  },
  {
   "cell_type": "code",
   "execution_count": 13,
   "metadata": {},
   "outputs": [],
   "source": [
    "data = filtering(\"\".join(d)) "
   ]
  },
  {
   "cell_type": "code",
   "execution_count": 14,
   "metadata": {},
   "outputs": [
    {
     "data": {
      "text/plain": [
       "118352"
      ]
     },
     "execution_count": 14,
     "metadata": {},
     "output_type": "execute_result"
    }
   ],
   "source": [
    "len(data)"
   ]
  },
  {
   "cell_type": "markdown",
   "metadata": {},
   "source": [
    "### Creating a vocabulary that maps each word to an integer"
   ]
  },
  {
   "cell_type": "code",
   "execution_count": 16,
   "metadata": {},
   "outputs": [],
   "source": [
    "vocabulary = {k: v for v, k in enumerate(data)}"
   ]
  },
  {
   "cell_type": "code",
   "execution_count": null,
   "metadata": {},
   "outputs": [],
   "source": []
  },
  {
   "cell_type": "code",
   "execution_count": null,
   "metadata": {},
   "outputs": [],
   "source": []
  }
 ],
 "metadata": {
  "kernelspec": {
   "display_name": "Python 3",
   "language": "python",
   "name": "python3"
  },
  "language_info": {
   "codemirror_mode": {
    "name": "ipython",
    "version": 3
   },
   "file_extension": ".py",
   "mimetype": "text/x-python",
   "name": "python",
   "nbconvert_exporter": "python",
   "pygments_lexer": "ipython3",
   "version": "3.7.3"
  }
 },
 "nbformat": 4,
 "nbformat_minor": 2
}
